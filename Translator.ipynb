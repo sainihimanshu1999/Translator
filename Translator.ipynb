{
 "cells": [
  {
   "cell_type": "code",
   "execution_count": 2,
   "metadata": {},
   "outputs": [],
   "source": [
    "import numpy as np\n",
    "import tensorflow as tf\n",
    "from tensorflow import keras"
   ]
  },
  {
   "cell_type": "code",
   "execution_count": 3,
   "metadata": {},
   "outputs": [
    {
     "data": {
      "text/plain": [
       "['  % Total    % Received % Xferd  Average Speed   Time    Time     Time  Current',\n",
       " '                                 Dload  Upload   Total   Spent    Left  Speed',\n",
       " '',\n",
       " '  0     0    0     0    0     0      0      0 --:--:-- --:--:-- --:--:--     0',\n",
       " '  0     0    0     0    0     0      0      0 --:--:--  0:00:01 --:--:--     0',\n",
       " '  0     0    0     0    0     0      0      0 --:--:--  0:00:02 --:--:--     0',\n",
       " '  0     0    0     0    0     0      0      0 --:--:--  0:00:03 --:--:--     0',\n",
       " '  0 5986k    0  2527    0     0    631      0  2:41:54  0:00:04  2:41:50   567',\n",
       " '  0 5986k    0 46307    0     0  11576      0  0:08:49  0:00:04  0:08:45  9349',\n",
       " ' 11 5986k   11  687k    0     0   137k      0  0:00:43  0:00:05  0:00:38  159k',\n",
       " ' 54 5986k   54 3268k    0     0   544k      0  0:00:10  0:00:06  0:00:04  757k',\n",
       " '100 5986k  100 5986k    0     0   855k      0  0:00:07  0:00:07 --:--:-- 1508k']"
      ]
     },
     "execution_count": 3,
     "metadata": {},
     "output_type": "execute_result"
    }
   ],
   "source": [
    "!!curl -O http://www.manythings.org/anki/fra-eng.zip"
   ]
  },
  {
   "cell_type": "code",
   "execution_count": 4,
   "metadata": {},
   "outputs": [],
   "source": [
    "batch_size = 64  #this is the size for training\n",
    "epochs = 100 #number of the iterations it will run for\n",
    "latent_dim = 256  #latent dimensionality of the encoding space\n",
    "num_samples = 10000 #Number of samples to train on\n",
    "#Path to the data txt file\n",
    "data_path = 'fra.txt'"
   ]
  },
  {
   "cell_type": "code",
   "execution_count": 6,
   "metadata": {},
   "outputs": [],
   "source": [
    "#we are vectorizing this dara\n",
    "input_texts = []\n",
    "target_texts = []\n",
    "input_characters = set()\n",
    "target_characters = set()\n",
    "with open(data_path, \"r\", encoding=\"utf-8\") as f:\n",
    "    lines = f.read().split(\"\\n\")\n",
    "for line in lines[: min(num_samples, len(lines) - 1)]:\n",
    "    input_text, target_text, _ = line.split(\"\\t\")\n",
    "    target_text = \"\\t\" + target_text + \"\\n\"\n",
    "    input_texts.append(input_text)\n",
    "    target_texts.append(target_text)\n",
    "    for char in input_text:\n",
    "        if char not in input_characters:\n",
    "            input_characters.add(char)\n",
    "    for char in target_text:\n",
    "        if char not in target_characters:\n",
    "            target_characters.add(char)"
   ]
  },
  {
   "cell_type": "code",
   "execution_count": 10,
   "metadata": {},
   "outputs": [
    {
     "data": {
      "text/plain": [
       "{' ',\n",
       " '!',\n",
       " '$',\n",
       " '%',\n",
       " '&',\n",
       " \"'\",\n",
       " ',',\n",
       " '-',\n",
       " '.',\n",
       " '0',\n",
       " '1',\n",
       " '2',\n",
       " '3',\n",
       " '5',\n",
       " '6',\n",
       " '7',\n",
       " '8',\n",
       " '9',\n",
       " ':',\n",
       " '?',\n",
       " 'A',\n",
       " 'B',\n",
       " 'C',\n",
       " 'D',\n",
       " 'E',\n",
       " 'F',\n",
       " 'G',\n",
       " 'H',\n",
       " 'I',\n",
       " 'J',\n",
       " 'K',\n",
       " 'L',\n",
       " 'M',\n",
       " 'N',\n",
       " 'O',\n",
       " 'P',\n",
       " 'Q',\n",
       " 'R',\n",
       " 'S',\n",
       " 'T',\n",
       " 'U',\n",
       " 'V',\n",
       " 'W',\n",
       " 'Y',\n",
       " 'a',\n",
       " 'b',\n",
       " 'c',\n",
       " 'd',\n",
       " 'e',\n",
       " 'f',\n",
       " 'g',\n",
       " 'h',\n",
       " 'i',\n",
       " 'j',\n",
       " 'k',\n",
       " 'l',\n",
       " 'm',\n",
       " 'n',\n",
       " 'o',\n",
       " 'p',\n",
       " 'q',\n",
       " 'r',\n",
       " 's',\n",
       " 't',\n",
       " 'u',\n",
       " 'v',\n",
       " 'w',\n",
       " 'x',\n",
       " 'y',\n",
       " 'z',\n",
       " 'é'}"
      ]
     },
     "execution_count": 10,
     "metadata": {},
     "output_type": "execute_result"
    }
   ],
   "source": [
    "input_characters"
   ]
  },
  {
   "cell_type": "code",
   "execution_count": 11,
   "metadata": {},
   "outputs": [],
   "source": [
    "input_characters = sorted(list(input_characters))\n",
    "target_characters = sorted(list(target_characters))\n",
    "num_encoder_tokens = len(input_characters)\n",
    "num_decoder_tokens = len(target_characters)\n",
    "max_encoder_seq_length = max([len(txt) for txt in input_texts])\n",
    "max_decoder_seq_length = max([len(txt) for txt in target_texts])\n"
   ]
  },
  {
   "cell_type": "code",
   "execution_count": 16,
   "metadata": {},
   "outputs": [
    {
     "data": {
      "text/plain": [
       "94"
      ]
     },
     "execution_count": 16,
     "metadata": {},
     "output_type": "execute_result"
    }
   ],
   "source": [
    "num_decoder_tokens"
   ]
  },
  {
   "cell_type": "code",
   "execution_count": 17,
   "metadata": {},
   "outputs": [
    {
     "name": "stdout",
     "output_type": "stream",
     "text": [
      "Number of samples: 10000\n",
      "Number of unique input tokens: 71\n",
      "Number of unique output tokens: 94\n",
      "Max sequence length for inputs: 15\n",
      "Max sequence length for outputs: 59\n"
     ]
    }
   ],
   "source": [
    "print(\"Number of samples:\", len(input_texts))\n",
    "print(\"Number of unique input tokens:\", num_encoder_tokens)\n",
    "print(\"Number of unique output tokens:\", num_decoder_tokens)\n",
    "print(\"Max sequence length for inputs:\", max_encoder_seq_length)\n",
    "print(\"Max sequence length for outputs:\", max_decoder_seq_length)"
   ]
  },
  {
   "cell_type": "code",
   "execution_count": 18,
   "metadata": {},
   "outputs": [],
   "source": [
    "input_token_index = dict([(char,i) for i, char in enumerate(input_characters)])\n",
    "target_token_index = dict([char,i] for i, char in enumerate(target_characters))"
   ]
  },
  {
   "cell_type": "code",
   "execution_count": 20,
   "metadata": {},
   "outputs": [
    {
     "data": {
      "text/plain": [
       "{'\\t': 0,\n",
       " '\\n': 1,\n",
       " ' ': 2,\n",
       " '!': 3,\n",
       " '$': 4,\n",
       " '%': 5,\n",
       " '&': 6,\n",
       " \"'\": 7,\n",
       " '(': 8,\n",
       " ')': 9,\n",
       " ',': 10,\n",
       " '-': 11,\n",
       " '.': 12,\n",
       " '0': 13,\n",
       " '1': 14,\n",
       " '2': 15,\n",
       " '3': 16,\n",
       " '5': 17,\n",
       " '8': 18,\n",
       " '9': 19,\n",
       " ':': 20,\n",
       " '?': 21,\n",
       " 'A': 22,\n",
       " 'B': 23,\n",
       " 'C': 24,\n",
       " 'D': 25,\n",
       " 'E': 26,\n",
       " 'F': 27,\n",
       " 'G': 28,\n",
       " 'H': 29,\n",
       " 'I': 30,\n",
       " 'J': 31,\n",
       " 'K': 32,\n",
       " 'L': 33,\n",
       " 'M': 34,\n",
       " 'N': 35,\n",
       " 'O': 36,\n",
       " 'P': 37,\n",
       " 'Q': 38,\n",
       " 'R': 39,\n",
       " 'S': 40,\n",
       " 'T': 41,\n",
       " 'U': 42,\n",
       " 'V': 43,\n",
       " 'Y': 44,\n",
       " 'a': 45,\n",
       " 'b': 46,\n",
       " 'c': 47,\n",
       " 'd': 48,\n",
       " 'e': 49,\n",
       " 'f': 50,\n",
       " 'g': 51,\n",
       " 'h': 52,\n",
       " 'i': 53,\n",
       " 'j': 54,\n",
       " 'k': 55,\n",
       " 'l': 56,\n",
       " 'm': 57,\n",
       " 'n': 58,\n",
       " 'o': 59,\n",
       " 'p': 60,\n",
       " 'q': 61,\n",
       " 'r': 62,\n",
       " 's': 63,\n",
       " 't': 64,\n",
       " 'u': 65,\n",
       " 'v': 66,\n",
       " 'w': 67,\n",
       " 'x': 68,\n",
       " 'y': 69,\n",
       " 'z': 70,\n",
       " '\\xa0': 71,\n",
       " '«': 72,\n",
       " '»': 73,\n",
       " 'À': 74,\n",
       " 'Ç': 75,\n",
       " 'É': 76,\n",
       " 'Ê': 77,\n",
       " 'à': 78,\n",
       " 'â': 79,\n",
       " 'ç': 80,\n",
       " 'è': 81,\n",
       " 'é': 82,\n",
       " 'ê': 83,\n",
       " 'ë': 84,\n",
       " 'î': 85,\n",
       " 'ï': 86,\n",
       " 'ô': 87,\n",
       " 'ù': 88,\n",
       " 'û': 89,\n",
       " 'œ': 90,\n",
       " '\\u2009': 91,\n",
       " '’': 92,\n",
       " '\\u202f': 93}"
      ]
     },
     "execution_count": 20,
     "metadata": {},
     "output_type": "execute_result"
    }
   ],
   "source": [
    "target_token_index"
   ]
  },
  {
   "cell_type": "code",
   "execution_count": 29,
   "metadata": {},
   "outputs": [],
   "source": [
    "encoder_input_data = np.zeros(\n",
    "        (len(input_texts), max_encoder_seq_length, num_encoder_tokens), dtype='float32'\n",
    ")\n",
    "decoder_input_data = np.zeros(\n",
    "            (len(input_texts), max_decoder_seq_length, num_decoder_tokens), dtype='float32'\n",
    ")\n",
    "decoder_target_data = np.zeros(\n",
    "            (len(input_texts), max_decoder_seq_length, num_decoder_tokens), dtype=\"float32\"\n",
    ")"
   ]
  },
  {
   "cell_type": "code",
   "execution_count": 30,
   "metadata": {},
   "outputs": [],
   "source": [
    "for i, (input_text, target_text) in enumerate(zip(input_texts,target_texts)):\n",
    "    for t, char in enumerate(input_text):\n",
    "        encoder_input_data[i,t, input_token_index[char]] = 1.0\n",
    "        encoder_input_data[i,t+1 :, input_token_index[\" \"]] = 1.0\n",
    "    for t, char in enumerate(target_text):\n",
    "        decoder_input_data[i,t, target_token_index[char]] = 1.0\n",
    "        if t>0:\n",
    "            decoder_target_data[i,t-1, target_token_index[char]] = 1.0\n",
    "    decoder_input_data[i,t+1 :,target_token_index[\" \"]] = 1.0\n",
    "    decoder_target_data[i,t:,target_token_index[\" \"]] = 1.0"
   ]
  },
  {
   "cell_type": "code",
   "execution_count": 34,
   "metadata": {},
   "outputs": [
    {
     "data": {
      "text/plain": [
       "(10000, 15, 71)"
      ]
     },
     "execution_count": 34,
     "metadata": {},
     "output_type": "execute_result"
    }
   ],
   "source": [
    "encoder_input_data.shape"
   ]
  },
  {
   "cell_type": "code",
   "execution_count": 35,
   "metadata": {},
   "outputs": [],
   "source": [
    "from tensorflow.keras.models import Model\n",
    "from tensorflow.keras.layers import Input, LSTM, Dense"
   ]
  },
  {
   "cell_type": "code",
   "execution_count": 36,
   "metadata": {},
   "outputs": [],
   "source": [
    "encoder_inputs = keras.Input(shape=(None, num_encoder_tokens))\n",
    "encoder = keras.layers.LSTM(latent_dim, return_state = True)\n",
    "encoder_outputs, state_h, state_c = encoder(encoder_inputs)\n",
    "encoder_states = [state_h, state_c]\n"
   ]
  },
  {
   "cell_type": "code",
   "execution_count": 39,
   "metadata": {},
   "outputs": [],
   "source": [
    "decoder_inputs = keras.Input(shape=(None, num_decoder_tokens))\n",
    "decoder_lstm = keras.layers.LSTM(latent_dim, return_sequences=True, return_state=True)\n",
    "decoder_outputs, _, _ = decoder_lstm(decoder_inputs, initial_state=encoder_states)\n",
    "decoder_dense = keras.layers.Dense(num_decoder_tokens, activation=\"softmax\")\n",
    "decoder_outputs = decoder_dense(decoder_outputs)"
   ]
  },
  {
   "cell_type": "code",
   "execution_count": null,
   "metadata": {},
   "outputs": [
    {
     "name": "stdout",
     "output_type": "stream",
     "text": [
      "Epoch 1/100\n",
      "125/125 [==============================] - 7s 55ms/step - loss: 1.1282 - accuracy: 0.7265 - val_loss: 1.0471 - val_accuracy: 0.7245\n",
      "Epoch 2/100\n",
      "125/125 [==============================] - 6s 49ms/step - loss: 0.8309 - accuracy: 0.7758 - val_loss: 0.8178 - val_accuracy: 0.7680\n",
      "Epoch 3/100\n",
      "125/125 [==============================] - 6s 49ms/step - loss: 0.6783 - accuracy: 0.8096 - val_loss: 0.7077 - val_accuracy: 0.7952\n",
      "Epoch 4/100\n",
      "125/125 [==============================] - 6s 48ms/step - loss: 0.5930 - accuracy: 0.8279 - val_loss: 0.6589 - val_accuracy: 0.8087\n",
      "Epoch 5/100\n",
      "125/125 [==============================] - 6s 46ms/step - loss: 0.5441 - accuracy: 0.8412 - val_loss: 0.6256 - val_accuracy: 0.8155\n",
      "Epoch 6/100\n",
      "125/125 [==============================] - 6s 47ms/step - loss: 0.5064 - accuracy: 0.8520 - val_loss: 0.6011 - val_accuracy: 0.8227\n",
      "Epoch 7/100\n",
      "125/125 [==============================] - 6s 48ms/step - loss: 0.4779 - accuracy: 0.8593 - val_loss: 0.5703 - val_accuracy: 0.8318\n",
      "Epoch 8/100\n",
      "125/125 [==============================] - 6s 49ms/step - loss: 0.4535 - accuracy: 0.8662 - val_loss: 0.5510 - val_accuracy: 0.8384\n",
      "Epoch 9/100\n",
      "125/125 [==============================] - 6s 49ms/step - loss: 0.4334 - accuracy: 0.8711 - val_loss: 0.5291 - val_accuracy: 0.8444\n",
      "Epoch 10/100\n",
      "125/125 [==============================] - 6s 48ms/step - loss: 0.4146 - accuracy: 0.8766 - val_loss: 0.5141 - val_accuracy: 0.8480\n",
      "Epoch 11/100\n",
      "125/125 [==============================] - 6s 49ms/step - loss: 0.3978 - accuracy: 0.8812 - val_loss: 0.5028 - val_accuracy: 0.8509\n",
      "Epoch 12/100\n",
      "125/125 [==============================] - 6s 49ms/step - loss: 0.3821 - accuracy: 0.8857 - val_loss: 0.4958 - val_accuracy: 0.8533\n",
      "Epoch 13/100\n",
      "125/125 [==============================] - 6s 45ms/step - loss: 0.3673 - accuracy: 0.8895 - val_loss: 0.4833 - val_accuracy: 0.8572\n",
      "Epoch 14/100\n",
      "125/125 [==============================] - 5s 42ms/step - loss: 0.3536 - accuracy: 0.8936 - val_loss: 0.4781 - val_accuracy: 0.8598\n",
      "Epoch 15/100\n",
      "125/125 [==============================] - 5s 44ms/step - loss: 0.3409 - accuracy: 0.8974 - val_loss: 0.4730 - val_accuracy: 0.8601\n",
      "Epoch 16/100\n",
      "125/125 [==============================] - 6s 44ms/step - loss: 0.3290 - accuracy: 0.9003 - val_loss: 0.4674 - val_accuracy: 0.8636\n",
      "Epoch 17/100\n",
      "125/125 [==============================] - 5s 42ms/step - loss: 0.3176 - accuracy: 0.9040 - val_loss: 0.4631 - val_accuracy: 0.8642\n",
      "Epoch 18/100\n",
      "125/125 [==============================] - 5s 44ms/step - loss: 0.3064 - accuracy: 0.9075 - val_loss: 0.4641 - val_accuracy: 0.8651\n",
      "Epoch 19/100\n",
      "125/125 [==============================] - 6s 49ms/step - loss: 0.2962 - accuracy: 0.9104 - val_loss: 0.4578 - val_accuracy: 0.8669\n",
      "Epoch 20/100\n",
      "125/125 [==============================] - 6s 51ms/step - loss: 0.2864 - accuracy: 0.9134 - val_loss: 0.4581 - val_accuracy: 0.8672\n",
      "Epoch 21/100\n",
      "125/125 [==============================] - 6s 50ms/step - loss: 0.2770 - accuracy: 0.9162 - val_loss: 0.4569 - val_accuracy: 0.8680\n",
      "Epoch 22/100\n",
      "125/125 [==============================] - 6s 49ms/step - loss: 0.2678 - accuracy: 0.9190 - val_loss: 0.4543 - val_accuracy: 0.8701\n",
      "Epoch 23/100\n",
      "125/125 [==============================] - 6s 49ms/step - loss: 0.2592 - accuracy: 0.9214 - val_loss: 0.4560 - val_accuracy: 0.8709\n",
      "Epoch 24/100\n",
      "125/125 [==============================] - 6s 50ms/step - loss: 0.2512 - accuracy: 0.9237 - val_loss: 0.4589 - val_accuracy: 0.8690\n",
      "Epoch 25/100\n",
      "125/125 [==============================] - 6s 50ms/step - loss: 0.2431 - accuracy: 0.9260 - val_loss: 0.4565 - val_accuracy: 0.8704\n",
      "Epoch 26/100\n",
      "125/125 [==============================] - 6s 49ms/step - loss: 0.2358 - accuracy: 0.9282 - val_loss: 0.4604 - val_accuracy: 0.8710\n",
      "Epoch 27/100\n",
      "125/125 [==============================] - 6s 50ms/step - loss: 0.2282 - accuracy: 0.9307 - val_loss: 0.4621 - val_accuracy: 0.8711\n",
      "Epoch 28/100\n",
      "125/125 [==============================] - 6s 48ms/step - loss: 0.2212 - accuracy: 0.9325 - val_loss: 0.4649 - val_accuracy: 0.8714\n",
      "Epoch 29/100\n",
      "125/125 [==============================] - 6s 48ms/step - loss: 0.2147 - accuracy: 0.9344 - val_loss: 0.4708 - val_accuracy: 0.8703\n",
      "Epoch 30/100\n",
      "125/125 [==============================] - 6s 49ms/step - loss: 0.2084 - accuracy: 0.9361 - val_loss: 0.4677 - val_accuracy: 0.8726\n",
      "Epoch 31/100\n",
      "125/125 [==============================] - 6s 49ms/step - loss: 0.2021 - accuracy: 0.9379 - val_loss: 0.4709 - val_accuracy: 0.8725\n",
      "Epoch 32/100\n",
      "125/125 [==============================] - 6s 49ms/step - loss: 0.1964 - accuracy: 0.9398 - val_loss: 0.4772 - val_accuracy: 0.8725\n",
      "Epoch 33/100\n",
      "125/125 [==============================] - 6s 51ms/step - loss: 0.1908 - accuracy: 0.9415 - val_loss: 0.4773 - val_accuracy: 0.8729\n",
      "Epoch 34/100\n",
      "125/125 [==============================] - 6s 50ms/step - loss: 0.1856 - accuracy: 0.9430 - val_loss: 0.4814 - val_accuracy: 0.8717\n",
      "Epoch 35/100\n",
      "125/125 [==============================] - 6s 50ms/step - loss: 0.1801 - accuracy: 0.9445 - val_loss: 0.4835 - val_accuracy: 0.8734\n",
      "Epoch 36/100\n",
      "125/125 [==============================] - 6s 51ms/step - loss: 0.1751 - accuracy: 0.9463 - val_loss: 0.4910 - val_accuracy: 0.8730\n",
      "Epoch 37/100\n",
      "125/125 [==============================] - 6s 51ms/step - loss: 0.1705 - accuracy: 0.9475 - val_loss: 0.4956 - val_accuracy: 0.8733\n",
      "Epoch 38/100\n",
      "125/125 [==============================] - 6s 50ms/step - loss: 0.1660 - accuracy: 0.9488 - val_loss: 0.4966 - val_accuracy: 0.8729\n",
      "Epoch 39/100\n",
      "125/125 [==============================] - 6s 51ms/step - loss: 0.1617 - accuracy: 0.9500 - val_loss: 0.4968 - val_accuracy: 0.8722\n",
      "Epoch 40/100\n",
      "125/125 [==============================] - 6s 49ms/step - loss: 0.1572 - accuracy: 0.9515 - val_loss: 0.5047 - val_accuracy: 0.8725\n",
      "Epoch 41/100\n",
      "125/125 [==============================] - 6s 51ms/step - loss: 0.1532 - accuracy: 0.9523 - val_loss: 0.5066 - val_accuracy: 0.8724\n",
      "Epoch 42/100\n",
      "125/125 [==============================] - 6s 51ms/step - loss: 0.1490 - accuracy: 0.9539 - val_loss: 0.5115 - val_accuracy: 0.8735\n",
      "Epoch 43/100\n",
      "125/125 [==============================] - 6s 50ms/step - loss: 0.1453 - accuracy: 0.9550 - val_loss: 0.5168 - val_accuracy: 0.8733\n",
      "Epoch 44/100\n",
      "125/125 [==============================] - 6s 50ms/step - loss: 0.1416 - accuracy: 0.9562 - val_loss: 0.5208 - val_accuracy: 0.8737\n",
      "Epoch 45/100\n",
      "125/125 [==============================] - 6s 49ms/step - loss: 0.1382 - accuracy: 0.9571 - val_loss: 0.5259 - val_accuracy: 0.8726\n",
      "Epoch 46/100\n",
      "125/125 [==============================] - 6s 50ms/step - loss: 0.1348 - accuracy: 0.9582 - val_loss: 0.5262 - val_accuracy: 0.8734\n",
      "Epoch 47/100\n",
      "125/125 [==============================] - 6s 50ms/step - loss: 0.1316 - accuracy: 0.9593 - val_loss: 0.5336 - val_accuracy: 0.8728\n",
      "Epoch 48/100\n",
      "125/125 [==============================] - 6s 49ms/step - loss: 0.1284 - accuracy: 0.9602 - val_loss: 0.5397 - val_accuracy: 0.8738\n",
      "Epoch 49/100\n",
      "125/125 [==============================] - 6s 50ms/step - loss: 0.1251 - accuracy: 0.9611 - val_loss: 0.5413 - val_accuracy: 0.8732\n",
      "Epoch 50/100\n",
      "125/125 [==============================] - 6s 49ms/step - loss: 0.1224 - accuracy: 0.9617 - val_loss: 0.5464 - val_accuracy: 0.8734\n",
      "Epoch 51/100\n",
      "125/125 [==============================] - 6s 50ms/step - loss: 0.1196 - accuracy: 0.9628 - val_loss: 0.5535 - val_accuracy: 0.8730\n",
      "Epoch 52/100\n",
      "125/125 [==============================] - 6s 50ms/step - loss: 0.1174 - accuracy: 0.9633 - val_loss: 0.5591 - val_accuracy: 0.8727\n",
      "Epoch 53/100\n",
      "125/125 [==============================] - 6s 51ms/step - loss: 0.1139 - accuracy: 0.9646 - val_loss: 0.5623 - val_accuracy: 0.8731\n",
      "Epoch 54/100\n",
      "125/125 [==============================] - 6s 49ms/step - loss: 0.1122 - accuracy: 0.9650 - val_loss: 0.5695 - val_accuracy: 0.8716\n",
      "Epoch 55/100\n",
      "125/125 [==============================] - 6s 50ms/step - loss: 0.1095 - accuracy: 0.9653 - val_loss: 0.5698 - val_accuracy: 0.8721\n",
      "Epoch 56/100\n",
      "125/125 [==============================] - 6s 50ms/step - loss: 0.1070 - accuracy: 0.9663 - val_loss: 0.5778 - val_accuracy: 0.8717\n",
      "Epoch 57/100\n"
     ]
    },
    {
     "name": "stdout",
     "output_type": "stream",
     "text": [
      "125/125 [==============================] - 6s 48ms/step - loss: 0.1048 - accuracy: 0.9669 - val_loss: 0.5780 - val_accuracy: 0.8723\n",
      "Epoch 58/100\n",
      "125/125 [==============================] - 6s 49ms/step - loss: 0.1026 - accuracy: 0.9679 - val_loss: 0.5842 - val_accuracy: 0.8719\n",
      "Epoch 59/100\n",
      "125/125 [==============================] - 6s 49ms/step - loss: 0.1003 - accuracy: 0.9683 - val_loss: 0.5879 - val_accuracy: 0.8721\n",
      "Epoch 60/100\n",
      "125/125 [==============================] - 6s 49ms/step - loss: 0.0980 - accuracy: 0.9687 - val_loss: 0.5929 - val_accuracy: 0.8721\n",
      "Epoch 61/100\n",
      "125/125 [==============================] - 6s 49ms/step - loss: 0.0956 - accuracy: 0.9696 - val_loss: 0.6020 - val_accuracy: 0.8715\n",
      "Epoch 62/100\n",
      "125/125 [==============================] - 6s 49ms/step - loss: 0.0943 - accuracy: 0.9701 - val_loss: 0.6056 - val_accuracy: 0.8719\n",
      "Epoch 63/100\n",
      "125/125 [==============================] - 6s 49ms/step - loss: 0.0923 - accuracy: 0.9706 - val_loss: 0.6062 - val_accuracy: 0.8715\n",
      "Epoch 64/100\n",
      "125/125 [==============================] - 6s 50ms/step - loss: 0.0903 - accuracy: 0.9711 - val_loss: 0.6094 - val_accuracy: 0.8717\n",
      "Epoch 65/100\n",
      "125/125 [==============================] - 6s 49ms/step - loss: 0.0882 - accuracy: 0.9716 - val_loss: 0.6107 - val_accuracy: 0.8719\n",
      "Epoch 66/100\n",
      "125/125 [==============================] - 6s 49ms/step - loss: 0.0866 - accuracy: 0.9723 - val_loss: 0.6199 - val_accuracy: 0.8717\n",
      "Epoch 67/100\n",
      "125/125 [==============================] - 6s 50ms/step - loss: 0.0848 - accuracy: 0.9729 - val_loss: 0.6257 - val_accuracy: 0.8712\n",
      "Epoch 68/100\n",
      "125/125 [==============================] - 6s 48ms/step - loss: 0.0828 - accuracy: 0.9733 - val_loss: 0.6280 - val_accuracy: 0.8718\n",
      "Epoch 69/100\n",
      "125/125 [==============================] - 5s 44ms/step - loss: 0.0817 - accuracy: 0.9736 - val_loss: 0.6371 - val_accuracy: 0.8708\n",
      "Epoch 70/100\n",
      "125/125 [==============================] - 5s 43ms/step - loss: 0.0800 - accuracy: 0.9742 - val_loss: 0.6391 - val_accuracy: 0.8713\n",
      "Epoch 71/100\n",
      "125/125 [==============================] - 5s 43ms/step - loss: 0.0786 - accuracy: 0.9747 - val_loss: 0.6418 - val_accuracy: 0.8724\n",
      "Epoch 72/100\n",
      " 49/125 [==========>...................] - ETA: 2s - loss: 0.0731 - accuracy: 0.9766"
     ]
    }
   ],
   "source": [
    "model = keras.Model([encoder_inputs, decoder_inputs], decoder_outputs)\n",
    "model.compile(\n",
    "    optimizer=\"rmsprop\", loss=\"categorical_crossentropy\", metrics=[\"accuracy\"]\n",
    ")\n",
    "model.fit(\n",
    "    [encoder_input_data, decoder_input_data],\n",
    "    decoder_target_data,\n",
    "    batch_size=batch_size,\n",
    "    epochs=epochs,\n",
    "    validation_split=0.2,\n",
    ")"
   ]
  },
  {
   "cell_type": "code",
   "execution_count": null,
   "metadata": {},
   "outputs": [],
   "source": []
  }
 ],
 "metadata": {
  "kernelspec": {
   "display_name": "Python 3",
   "language": "python",
   "name": "python3"
  },
  "language_info": {
   "codemirror_mode": {
    "name": "ipython",
    "version": 3
   },
   "file_extension": ".py",
   "mimetype": "text/x-python",
   "name": "python",
   "nbconvert_exporter": "python",
   "pygments_lexer": "ipython3",
   "version": "3.8.6"
  }
 },
 "nbformat": 4,
 "nbformat_minor": 4
}
